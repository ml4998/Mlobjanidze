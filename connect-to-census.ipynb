{
 "cells": [
  {
   "cell_type": "markdown",
   "metadata": {},
   "source": [
    "# Notebook Title"
   ]
  },
  {
   "cell_type": "markdown",
   "metadata": {},
   "source": [
    "## Setup Python and R environment\n",
    "you can ignore this section"
   ]
  },
  {
   "cell_type": "code",
   "execution_count": 2,
   "metadata": {},
   "outputs": [],
   "source": [
    "%load_ext rpy2.ipython\n",
    "%load_ext autoreload\n",
    "%autoreload 2\n",
    "\n",
    "%matplotlib inline  \n",
    "from matplotlib import rcParams\n",
    "rcParams['figure.figsize'] = (16, 100)\n",
    "\n",
    "import warnings\n",
    "from rpy2.rinterface import RRuntimeWarning\n",
    "warnings.filterwarnings(\"ignore\") # Ignore all warnings\n",
    "# warnings.filterwarnings(\"ignore\", category=RRuntimeWarning) # Show some warnings\n",
    "\n",
    "import pandas as pd\n",
    "import numpy as np\n",
    "import matplotlib.pyplot as plt\n",
    "from IPython.display import display, HTML"
   ]
  },
  {
   "cell_type": "code",
   "execution_count": 3,
   "metadata": {},
   "outputs": [
    {
     "data": {
      "application/javascript": [
       "// Disable auto-scrolling\n",
       "IPython.OutputArea.prototype._should_scroll = function(lines) {\n",
       "    return false;\n",
       "}\n"
      ],
      "text/plain": [
       "<IPython.core.display.Javascript object>"
      ]
     },
     "metadata": {},
     "output_type": "display_data"
    }
   ],
   "source": [
    "%%javascript\n",
    "// Disable auto-scrolling\n",
    "IPython.OutputArea.prototype._should_scroll = function(lines) {\n",
    "    return false;\n",
    "}"
   ]
  },
  {
   "cell_type": "code",
   "execution_count": 4,
   "metadata": {},
   "outputs": [
    {
     "name": "stdout",
     "output_type": "stream",
     "text": [
      "── Attaching core tidyverse packages ──────────────────────── tidyverse 2.0.0 ──\n",
      "✔ dplyr     1.1.4     ✔ readr     2.1.5\n",
      "✔ forcats   1.0.0     ✔ stringr   1.5.1\n",
      "✔ ggplot2   3.4.4     ✔ tibble    3.2.1\n",
      "✔ lubridate 1.9.3     ✔ tidyr     1.3.1\n",
      "✔ purrr     1.0.2     \n",
      "── Conflicts ────────────────────────────────────────── tidyverse_conflicts() ──\n",
      "✖ dplyr::filter() masks stats::filter()\n",
      "✖ dplyr::lag()    masks stats::lag()\n",
      "ℹ Use the conflicted package (<http://conflicted.r-lib.org/>) to force all conflicts to become errors\n"
     ]
    },
    {
     "data": {
      "text/plain": [
       "Loading required package: tidyverse\n"
      ]
     },
     "metadata": {},
     "output_type": "display_data"
    }
   ],
   "source": [
    "%%R\n",
    "\n",
    "# My commonly used R imports\n",
    "\n",
    "require('tidyverse')"
   ]
  },
  {
   "cell_type": "markdown",
   "metadata": {},
   "source": [
    "## 👉 download your data\n",
    "\n",
    "You can write code here to download your dataset. Or if you already have it, just leave the URL in the comments and just load it into a pandas or R (or both) dataframe."
   ]
  },
  {
   "cell_type": "code",
   "execution_count": 6,
   "metadata": {},
   "outputs": [],
   "source": [
    "df = pd.read_csv(\"Evictions_20240214.csv\")"
   ]
  },
  {
   "cell_type": "code",
   "execution_count": 8,
   "metadata": {},
   "outputs": [
    {
     "name": "stdout",
     "output_type": "stream",
     "text": [
      "<class 'pandas.core.frame.DataFrame'>\n",
      "RangeIndex: 87232 entries, 0 to 87231\n",
      "Data columns (total 20 columns):\n",
      " #   Column                     Non-Null Count  Dtype  \n",
      "---  ------                     --------------  -----  \n",
      " 0   Court Index Number         87232 non-null  object \n",
      " 1   Docket Number              87232 non-null  int64  \n",
      " 2   Eviction Address           87232 non-null  object \n",
      " 3   Eviction Apartment Number  73485 non-null  object \n",
      " 4   Executed Date              87232 non-null  object \n",
      " 5   Marshal First Name         87232 non-null  object \n",
      " 6   Marshal Last Name          87232 non-null  object \n",
      " 7   Residential/Commercial     87232 non-null  object \n",
      " 8   BOROUGH                    87232 non-null  object \n",
      " 9   Eviction Postcode          87232 non-null  int64  \n",
      " 10  Ejectment                  87232 non-null  object \n",
      " 11  Eviction/Legal Possession  87232 non-null  object \n",
      " 12  Latitude                   79121 non-null  float64\n",
      " 13  Longitude                  79121 non-null  float64\n",
      " 14  Community Board            79121 non-null  float64\n",
      " 15  Council District           79121 non-null  float64\n",
      " 16  Census Tract               79121 non-null  float64\n",
      " 17  BIN                        78950 non-null  float64\n",
      " 18  BBL                        78950 non-null  float64\n",
      " 19  NTA                        79121 non-null  object \n",
      "dtypes: float64(7), int64(2), object(11)\n",
      "memory usage: 13.3+ MB\n"
     ]
    }
   ],
   "source": [
    "df.info()"
   ]
  },
  {
   "cell_type": "code",
   "execution_count": 9,
   "metadata": {},
   "outputs": [
    {
     "data": {
      "text/html": [
       "<div>\n",
       "<style scoped>\n",
       "    .dataframe tbody tr th:only-of-type {\n",
       "        vertical-align: middle;\n",
       "    }\n",
       "\n",
       "    .dataframe tbody tr th {\n",
       "        vertical-align: top;\n",
       "    }\n",
       "\n",
       "    .dataframe thead th {\n",
       "        text-align: right;\n",
       "    }\n",
       "</style>\n",
       "<table border=\"1\" class=\"dataframe\">\n",
       "  <thead>\n",
       "    <tr style=\"text-align: right;\">\n",
       "      <th></th>\n",
       "      <th>Court Index Number</th>\n",
       "      <th>Docket Number</th>\n",
       "      <th>Eviction Address</th>\n",
       "      <th>Eviction Apartment Number</th>\n",
       "      <th>Executed Date</th>\n",
       "      <th>Marshal First Name</th>\n",
       "      <th>Marshal Last Name</th>\n",
       "      <th>Residential/Commercial</th>\n",
       "      <th>BOROUGH</th>\n",
       "      <th>Eviction Postcode</th>\n",
       "      <th>Ejectment</th>\n",
       "      <th>Eviction/Legal Possession</th>\n",
       "      <th>Latitude</th>\n",
       "      <th>Longitude</th>\n",
       "      <th>Community Board</th>\n",
       "      <th>Council District</th>\n",
       "      <th>Census Tract</th>\n",
       "      <th>BIN</th>\n",
       "      <th>BBL</th>\n",
       "      <th>NTA</th>\n",
       "    </tr>\n",
       "  </thead>\n",
       "  <tbody>\n",
       "    <tr>\n",
       "      <th>0</th>\n",
       "      <td>59476/17</td>\n",
       "      <td>11396</td>\n",
       "      <td>92-14 88 AVENUE</td>\n",
       "      <td>NaN</td>\n",
       "      <td>09/21/2017</td>\n",
       "      <td>Edward</td>\n",
       "      <td>Guida</td>\n",
       "      <td>Residential</td>\n",
       "      <td>QUEENS</td>\n",
       "      <td>11421</td>\n",
       "      <td>Not an Ejectment</td>\n",
       "      <td>Possession</td>\n",
       "      <td>40.692198</td>\n",
       "      <td>-73.852539</td>\n",
       "      <td>9.0</td>\n",
       "      <td>32.0</td>\n",
       "      <td>18.0</td>\n",
       "      <td>4184173.0</td>\n",
       "      <td>4.089300e+09</td>\n",
       "      <td>Woodhaven</td>\n",
       "    </tr>\n",
       "    <tr>\n",
       "      <th>1</th>\n",
       "      <td>32180/18</td>\n",
       "      <td>84769</td>\n",
       "      <td>1511-1521 SHERIDAN A VENUE</td>\n",
       "      <td>C84</td>\n",
       "      <td>07/23/2019</td>\n",
       "      <td>Justin</td>\n",
       "      <td>Grossman</td>\n",
       "      <td>Residential</td>\n",
       "      <td>BRONX</td>\n",
       "      <td>10457</td>\n",
       "      <td>Not an Ejectment</td>\n",
       "      <td>Possession</td>\n",
       "      <td>40.840968</td>\n",
       "      <td>-73.911339</td>\n",
       "      <td>4.0</td>\n",
       "      <td>16.0</td>\n",
       "      <td>225.0</td>\n",
       "      <td>2007855.0</td>\n",
       "      <td>2.028210e+09</td>\n",
       "      <td>East Concourse-Concourse Village</td>\n",
       "    </tr>\n",
       "    <tr>\n",
       "      <th>2</th>\n",
       "      <td>64584/17</td>\n",
       "      <td>296087</td>\n",
       "      <td>3235 CRUGER AVENUE</td>\n",
       "      <td>1</td>\n",
       "      <td>02/09/2018</td>\n",
       "      <td>George</td>\n",
       "      <td>Essock</td>\n",
       "      <td>Residential</td>\n",
       "      <td>BRONX</td>\n",
       "      <td>10467</td>\n",
       "      <td>Not an Ejectment</td>\n",
       "      <td>Possession</td>\n",
       "      <td>40.872088</td>\n",
       "      <td>-73.866154</td>\n",
       "      <td>12.0</td>\n",
       "      <td>15.0</td>\n",
       "      <td>374.0</td>\n",
       "      <td>2056250.0</td>\n",
       "      <td>2.045960e+09</td>\n",
       "      <td>Williamsbridge-Olinville</td>\n",
       "    </tr>\n",
       "    <tr>\n",
       "      <th>3</th>\n",
       "      <td>62855/17</td>\n",
       "      <td>10134</td>\n",
       "      <td>2735 BARKER AVENUE</td>\n",
       "      <td>P52</td>\n",
       "      <td>03/13/2018</td>\n",
       "      <td>George</td>\n",
       "      <td>Essock, Jr.</td>\n",
       "      <td>Residential</td>\n",
       "      <td>BRONX</td>\n",
       "      <td>10467</td>\n",
       "      <td>Not an Ejectment</td>\n",
       "      <td>Possession</td>\n",
       "      <td>40.865872</td>\n",
       "      <td>-73.869150</td>\n",
       "      <td>11.0</td>\n",
       "      <td>15.0</td>\n",
       "      <td>336.0</td>\n",
       "      <td>2093451.0</td>\n",
       "      <td>2.045060e+09</td>\n",
       "      <td>Bronxdale</td>\n",
       "    </tr>\n",
       "    <tr>\n",
       "      <th>4</th>\n",
       "      <td>K98551/16C</td>\n",
       "      <td>76810</td>\n",
       "      <td>579 RALPH AVENUE</td>\n",
       "      <td>1</td>\n",
       "      <td>04/20/2017</td>\n",
       "      <td>Ileana</td>\n",
       "      <td>Rivera</td>\n",
       "      <td>Residential</td>\n",
       "      <td>BROOKLYN</td>\n",
       "      <td>11233</td>\n",
       "      <td>Not an Ejectment</td>\n",
       "      <td>Possession</td>\n",
       "      <td>40.669509</td>\n",
       "      <td>-73.922511</td>\n",
       "      <td>16.0</td>\n",
       "      <td>41.0</td>\n",
       "      <td>361.0</td>\n",
       "      <td>3039492.0</td>\n",
       "      <td>3.014730e+09</td>\n",
       "      <td>Ocean Hill</td>\n",
       "    </tr>\n",
       "  </tbody>\n",
       "</table>\n",
       "</div>"
      ],
      "text/plain": [
       "  Court Index Number  Docket Number             Eviction Address  \\\n",
       "0           59476/17           11396             92-14 88 AVENUE   \n",
       "1           32180/18           84769  1511-1521 SHERIDAN A VENUE   \n",
       "2           64584/17          296087          3235 CRUGER AVENUE   \n",
       "3           62855/17           10134          2735 BARKER AVENUE   \n",
       "4         K98551/16C           76810            579 RALPH AVENUE   \n",
       "\n",
       "  Eviction Apartment Number Executed Date Marshal First Name  \\\n",
       "0                       NaN    09/21/2017             Edward   \n",
       "1                       C84    07/23/2019             Justin   \n",
       "2                         1    02/09/2018             George   \n",
       "3                       P52    03/13/2018             George   \n",
       "4                         1    04/20/2017             Ileana   \n",
       "\n",
       "  Marshal Last Name Residential/Commercial   BOROUGH  Eviction Postcode  \\\n",
       "0             Guida            Residential    QUEENS              11421   \n",
       "1          Grossman            Residential     BRONX              10457   \n",
       "2            Essock            Residential     BRONX              10467   \n",
       "3       Essock, Jr.            Residential     BRONX              10467   \n",
       "4            Rivera            Residential  BROOKLYN              11233   \n",
       "\n",
       "          Ejectment Eviction/Legal Possession   Latitude  Longitude  \\\n",
       "0  Not an Ejectment                Possession  40.692198 -73.852539   \n",
       "1  Not an Ejectment                Possession  40.840968 -73.911339   \n",
       "2  Not an Ejectment                Possession  40.872088 -73.866154   \n",
       "3  Not an Ejectment                Possession  40.865872 -73.869150   \n",
       "4  Not an Ejectment                Possession  40.669509 -73.922511   \n",
       "\n",
       "   Community Board  Council District  Census Tract        BIN           BBL  \\\n",
       "0              9.0              32.0          18.0  4184173.0  4.089300e+09   \n",
       "1              4.0              16.0         225.0  2007855.0  2.028210e+09   \n",
       "2             12.0              15.0         374.0  2056250.0  2.045960e+09   \n",
       "3             11.0              15.0         336.0  2093451.0  2.045060e+09   \n",
       "4             16.0              41.0         361.0  3039492.0  3.014730e+09   \n",
       "\n",
       "                                NTA  \n",
       "0                         Woodhaven  \n",
       "1  East Concourse-Concourse Village  \n",
       "2          Williamsbridge-Olinville  \n",
       "3                         Bronxdale  \n",
       "4                        Ocean Hill  "
      ]
     },
     "execution_count": 9,
     "metadata": {},
     "output_type": "execute_result"
    }
   ],
   "source": [
    "df.head()"
   ]
  },
  {
   "cell_type": "code",
   "execution_count": 11,
   "metadata": {},
   "outputs": [
    {
     "data": {
      "text/plain": [
       "BOROUGH\n",
       "BRONX            28199\n",
       "BROOKLYN         25284\n",
       "QUEENS           16426\n",
       "MANHATTAN        14196\n",
       "STATEN ISLAND     3127\n",
       "Name: count, dtype: int64"
      ]
     },
     "execution_count": 11,
     "metadata": {},
     "output_type": "execute_result"
    }
   ],
   "source": [
    "df.BOROUGH.value_counts()"
   ]
  },
  {
   "cell_type": "markdown",
   "metadata": {},
   "source": [
    "## 👉 convert addresses --> lat/long \n",
    "\n",
    "See the [census-examples](https://github.com/data4news/census-examples) repository for examples. If you need help, try asking in the class slack channel. Chances are someone in the class is struggling with the same problem as you are so we might as well all learn together in the same slack channel! "
   ]
  },
  {
   "cell_type": "code",
   "execution_count": null,
   "metadata": {},
   "outputs": [],
   "source": [
    "%%R \n",
    "\n",
    "census_api_key(\"YOUR-CENSUS-API-KEY-HERE\")"
   ]
  },
  {
   "cell_type": "code",
   "execution_count": null,
   "metadata": {},
   "outputs": [],
   "source": []
  },
  {
   "cell_type": "markdown",
   "metadata": {},
   "source": [
    "## 👉 convert lat/long to census geography codes \n",
    "\n",
    "(like 'GEOID', 'STATE', 'COUNTY', 'TRACT', 'BLOCK', etc...)\n",
    "\n",
    "Same note as above, see [census-examples](https://github.com/data4news/census-examples) repository for examples or ask in the class slack channel if stuck."
   ]
  },
  {
   "cell_type": "markdown",
   "metadata": {},
   "source": []
  },
  {
   "cell_type": "code",
   "execution_count": null,
   "metadata": {},
   "outputs": [],
   "source": []
  },
  {
   "cell_type": "code",
   "execution_count": null,
   "metadata": {},
   "outputs": [],
   "source": []
  },
  {
   "cell_type": "code",
   "execution_count": null,
   "metadata": {},
   "outputs": [],
   "source": []
  },
  {
   "cell_type": "markdown",
   "metadata": {},
   "source": [
    "## 👉 Output Data\n",
    "\n",
    "Output your dataframe containing your data and the Census connector codes (like tract, block, etc...)."
   ]
  },
  {
   "cell_type": "code",
   "execution_count": null,
   "metadata": {},
   "outputs": [],
   "source": []
  },
  {
   "cell_type": "code",
   "execution_count": null,
   "metadata": {},
   "outputs": [],
   "source": []
  },
  {
   "cell_type": "code",
   "execution_count": null,
   "metadata": {},
   "outputs": [],
   "source": []
  }
 ],
 "metadata": {
  "kernelspec": {
   "display_name": "Python 3 (ipykernel)",
   "language": "python",
   "name": "python3"
  },
  "language_info": {
   "codemirror_mode": {
    "name": "ipython",
    "version": 3
   },
   "file_extension": ".py",
   "mimetype": "text/x-python",
   "name": "python",
   "nbconvert_exporter": "python",
   "pygments_lexer": "ipython3",
   "version": "3.11.6"
  }
 },
 "nbformat": 4,
 "nbformat_minor": 4
}
